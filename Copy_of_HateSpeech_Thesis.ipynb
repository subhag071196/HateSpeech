{
  "nbformat": 4,
  "nbformat_minor": 0,
  "metadata": {
    "colab": {
      "name": "Copy of HateSpeech-Thesis",
      "provenance": [],
      "authorship_tag": "ABX9TyOdNvoDV8z4fHGLUshXHMW+",
      "include_colab_link": true
    },
    "kernelspec": {
      "name": "python3",
      "display_name": "Python 3"
    }
  },
  "cells": [
    {
      "cell_type": "markdown",
      "metadata": {
        "id": "view-in-github",
        "colab_type": "text"
      },
      "source": [
        "<a href=\"https://colab.research.google.com/github/subhag071196/HateSpeech/blob/master/Copy_of_HateSpeech_Thesis.ipynb\" target=\"_parent\"><img src=\"https://colab.research.google.com/assets/colab-badge.svg\" alt=\"Open In Colab\"/></a>"
      ]
    },
    {
      "cell_type": "markdown",
      "metadata": {
        "id": "kl_gqAALyeCU",
        "colab_type": "text"
      },
      "source": [
        "### ***Extracting Dataset***"
      ]
    },
    {
      "cell_type": "code",
      "metadata": {
        "id": "u9eRct_20q-2",
        "colab_type": "code",
        "outputId": "e211008a-a34e-468b-90d5-b2ba1adab275",
        "colab": {
          "base_uri": "https://localhost:8080/",
          "height": 67
        }
      },
      "source": [
        "!unzip out.zip -d data"
      ],
      "execution_count": 1,
      "outputs": [
        {
          "output_type": "stream",
          "text": [
            "Archive:  out.zip\n",
            "  inflating: data/test.csv           \n",
            "  inflating: data/train.csv.csv      \n"
          ],
          "name": "stdout"
        }
      ]
    },
    {
      "cell_type": "markdown",
      "metadata": {
        "id": "oc0BKZ_cyWi-",
        "colab_type": "text"
      },
      "source": [
        "### ***Importing Required Libraries***"
      ]
    },
    {
      "cell_type": "code",
      "metadata": {
        "id": "4pMp8SmE1rNQ",
        "colab_type": "code",
        "outputId": "c0d8f1ae-2ba9-4f45-867d-50d3d3c4e72a",
        "colab": {
          "base_uri": "https://localhost:8080/",
          "height": 70
        }
      },
      "source": [
        "import tensorflow as tf\n",
        "from tensorflow.keras.utils import to_categorical\n",
        "from tensorflow.keras.preprocessing.text import Tokenizer\n",
        "from tensorflow.keras.preprocessing.sequence import pad_sequences\n",
        "from tensorflow.keras.callbacks import EarlyStopping\n",
        "from tensorflow.keras.optimizers import Adam\n",
        "from keras.layers import GRU,Bidirectional,Dense,Dropout,Embedding,LSTM,Conv1D,GlobalMaxPooling1D,GlobalAveragePooling1D,MaxPooling1D,SpatialDropout1D,concatenate\n",
        "from keras.models import Sequential\n",
        "import keras\n",
        "from sklearn import svm\n",
        "import pandas as pd\n",
        "from sklearn.metrics import accuracy_score\n",
        "import warnings\n",
        "warnings.filterwarnings('ignore')\n",
        "import numpy as np\n",
        "import pandas as pd\n",
        "import matplotlib.pyplot as plt\n",
        "import re\n",
        "import string\n",
        "import numpy as np \n",
        "import random\n",
        "import pandas as pd \n",
        "import matplotlib.pyplot as plt\n",
        "import seaborn as sns\n",
        "%matplotlib inline\n",
        "from plotly import graph_objs as go\n",
        "import plotly.express as px\n",
        "import plotly.figure_factory as ff\n",
        "from collections import Counter\n",
        "\n",
        "from PIL import Image\n",
        "from wordcloud import WordCloud, STOPWORDS, ImageColorGenerator\n",
        "\n",
        "from sklearn.utils import shuffle\n",
        "import nltk\n",
        "from nltk.corpus import stopwords\n",
        "\n",
        "from tqdm import tqdm\n",
        "import os\n",
        "import nltk\n",
        "import spacy\n",
        "import random\n",
        "from spacy.util import compounding\n",
        "from spacy.util import minibatch\n",
        "\n",
        "import warnings\n",
        "warnings.filterwarnings(\"ignore\")\n",
        "\n",
        "import os\n",
        "for dirname, _, filenames in os.walk('/kaggle/input'):\n",
        "    for filename in filenames:\n",
        "        print(os.path.join(dirname, filename))\n",
        "\"\"\"%tensorflow_version 2.x\n",
        "import tensorflow as tf\n",
        "print(\"Tensorflow version \" + tf.__version__)\n",
        "\n",
        "try:\n",
        "  tpu = tf.distribute.cluster_resolver.TPUClusterResolver()  # TPU detection\n",
        "  print('Running on TPU ', tpu.cluster_spec().as_dict()['worker'])\n",
        "except ValueError:\n",
        "  raise BaseException('ERROR: Not connected to a TPU runtime; please see the previous cell in this notebook for instructions!')\n",
        "\n",
        "tf.config.experimental_connect_to_cluster(tpu)\n",
        "tf.tpu.experimental.initialize_tpu_system(tpu)\n",
        "tpu_strategy = tf.distribute.experimental.TPUStrategy(tpu)\n",
        "\"\"\""
      ],
      "execution_count": 2,
      "outputs": [
        {
          "output_type": "stream",
          "text": [
            "Using TensorFlow backend.\n"
          ],
          "name": "stderr"
        },
        {
          "output_type": "execute_result",
          "data": {
            "text/plain": [
              "'%tensorflow_version 2.x\\nimport tensorflow as tf\\nprint(\"Tensorflow version \" + tf.__version__)\\n\\ntry:\\n  tpu = tf.distribute.cluster_resolver.TPUClusterResolver()  # TPU detection\\n  print(\\'Running on TPU \\', tpu.cluster_spec().as_dict()[\\'worker\\'])\\nexcept ValueError:\\n  raise BaseException(\\'ERROR: Not connected to a TPU runtime; please see the previous cell in this notebook for instructions!\\')\\n\\ntf.config.experimental_connect_to_cluster(tpu)\\ntf.tpu.experimental.initialize_tpu_system(tpu)\\ntpu_strategy = tf.distribute.experimental.TPUStrategy(tpu)\\n'"
            ]
          },
          "metadata": {
            "tags": []
          },
          "execution_count": 2
        }
      ]
    },
    {
      "cell_type": "markdown",
      "metadata": {
        "id": "WRbn6gU5yyxX",
        "colab_type": "text"
      },
      "source": [
        "### ***Visualizing Data***"
      ]
    },
    {
      "cell_type": "code",
      "metadata": {
        "id": "fldRPTSc16Cj",
        "colab_type": "code",
        "colab": {}
      },
      "source": [
        "train = pd.read_csv('data/train.csv')\n",
        "train = shuffle(train)\n",
        "train_data = train[:40000]\n",
        "test_data = train[40000:]\n"
      ],
      "execution_count": 0,
      "outputs": []
    },
    {
      "cell_type": "code",
      "metadata": {
        "id": "eOm5yqyWKC8e",
        "colab_type": "code",
        "outputId": "9a559339-1b58-453e-9c96-0dabb8eac531",
        "colab": {
          "base_uri": "https://localhost:8080/",
          "height": 78
        }
      },
      "source": [
        "temp = train_data.groupby('label').count()['tweet'].reset_index().sort_values(by='tweet',ascending=False)\n",
        "temp.style.background_gradient(cmap='Reds')"
      ],
      "execution_count": 4,
      "outputs": [
        {
          "output_type": "execute_result",
          "data": {
            "text/html": [
              "<style  type=\"text/css\" >\n",
              "    #T_1a677284_86d3_11ea_9c35_0242ac1c0002row0_col0 {\n",
              "            background-color:  #fff5f0;\n",
              "            color:  #000000;\n",
              "        }    #T_1a677284_86d3_11ea_9c35_0242ac1c0002row0_col1 {\n",
              "            background-color:  #67000d;\n",
              "            color:  #f1f1f1;\n",
              "        }    #T_1a677284_86d3_11ea_9c35_0242ac1c0002row1_col0 {\n",
              "            background-color:  #67000d;\n",
              "            color:  #f1f1f1;\n",
              "        }    #T_1a677284_86d3_11ea_9c35_0242ac1c0002row1_col1 {\n",
              "            background-color:  #fff5f0;\n",
              "            color:  #000000;\n",
              "        }</style><table id=\"T_1a677284_86d3_11ea_9c35_0242ac1c0002\" ><thead>    <tr>        <th class=\"blank level0\" ></th>        <th class=\"col_heading level0 col0\" >label</th>        <th class=\"col_heading level0 col1\" >tweet</th>    </tr></thead><tbody>\n",
              "                <tr>\n",
              "                        <th id=\"T_1a677284_86d3_11ea_9c35_0242ac1c0002level0_row0\" class=\"row_heading level0 row0\" >0</th>\n",
              "                        <td id=\"T_1a677284_86d3_11ea_9c35_0242ac1c0002row0_col0\" class=\"data row0 col0\" >0</td>\n",
              "                        <td id=\"T_1a677284_86d3_11ea_9c35_0242ac1c0002row0_col1\" class=\"data row0 col1\" >21966</td>\n",
              "            </tr>\n",
              "            <tr>\n",
              "                        <th id=\"T_1a677284_86d3_11ea_9c35_0242ac1c0002level0_row1\" class=\"row_heading level0 row1\" >1</th>\n",
              "                        <td id=\"T_1a677284_86d3_11ea_9c35_0242ac1c0002row1_col0\" class=\"data row1 col0\" >1</td>\n",
              "                        <td id=\"T_1a677284_86d3_11ea_9c35_0242ac1c0002row1_col1\" class=\"data row1 col1\" >18034</td>\n",
              "            </tr>\n",
              "    </tbody></table>"
            ],
            "text/plain": [
              "<pandas.io.formats.style.Styler at 0x7fbe1997ff60>"
            ]
          },
          "metadata": {
            "tags": []
          },
          "execution_count": 4
        }
      ]
    },
    {
      "cell_type": "code",
      "metadata": {
        "id": "pdFd29KhfDEF",
        "colab_type": "code",
        "outputId": "36f12df4-c2ae-4395-b96d-4dca0395478e",
        "colab": {
          "base_uri": "https://localhost:8080/",
          "height": 78
        }
      },
      "source": [
        "temp = test_data.groupby('label').count()['tweet'].reset_index().sort_values(by='tweet',ascending=False)\n",
        "temp.style.background_gradient(cmap='Reds')"
      ],
      "execution_count": 5,
      "outputs": [
        {
          "output_type": "execute_result",
          "data": {
            "text/html": [
              "<style  type=\"text/css\" >\n",
              "    #T_1aa097b2_86d3_11ea_9c35_0242ac1c0002row0_col0 {\n",
              "            background-color:  #fff5f0;\n",
              "            color:  #000000;\n",
              "        }    #T_1aa097b2_86d3_11ea_9c35_0242ac1c0002row0_col1 {\n",
              "            background-color:  #67000d;\n",
              "            color:  #f1f1f1;\n",
              "        }    #T_1aa097b2_86d3_11ea_9c35_0242ac1c0002row1_col0 {\n",
              "            background-color:  #67000d;\n",
              "            color:  #f1f1f1;\n",
              "        }    #T_1aa097b2_86d3_11ea_9c35_0242ac1c0002row1_col1 {\n",
              "            background-color:  #fff5f0;\n",
              "            color:  #000000;\n",
              "        }</style><table id=\"T_1aa097b2_86d3_11ea_9c35_0242ac1c0002\" ><thead>    <tr>        <th class=\"blank level0\" ></th>        <th class=\"col_heading level0 col0\" >label</th>        <th class=\"col_heading level0 col1\" >tweet</th>    </tr></thead><tbody>\n",
              "                <tr>\n",
              "                        <th id=\"T_1aa097b2_86d3_11ea_9c35_0242ac1c0002level0_row0\" class=\"row_heading level0 row0\" >0</th>\n",
              "                        <td id=\"T_1aa097b2_86d3_11ea_9c35_0242ac1c0002row0_col0\" class=\"data row0 col0\" >0</td>\n",
              "                        <td id=\"T_1aa097b2_86d3_11ea_9c35_0242ac1c0002row0_col1\" class=\"data row0 col1\" >9184</td>\n",
              "            </tr>\n",
              "            <tr>\n",
              "                        <th id=\"T_1aa097b2_86d3_11ea_9c35_0242ac1c0002level0_row1\" class=\"row_heading level0 row1\" >1</th>\n",
              "                        <td id=\"T_1aa097b2_86d3_11ea_9c35_0242ac1c0002row1_col0\" class=\"data row1 col0\" >1</td>\n",
              "                        <td id=\"T_1aa097b2_86d3_11ea_9c35_0242ac1c0002row1_col1\" class=\"data row1 col1\" >7561</td>\n",
              "            </tr>\n",
              "    </tbody></table>"
            ],
            "text/plain": [
              "<pandas.io.formats.style.Styler at 0x7fbe7553f9e8>"
            ]
          },
          "metadata": {
            "tags": []
          },
          "execution_count": 5
        }
      ]
    },
    {
      "cell_type": "code",
      "metadata": {
        "id": "yQLY5Vf3KMx_",
        "colab_type": "code",
        "outputId": "29884f9a-3751-4ee8-cdeb-9da6fc15c2f1",
        "colab": {
          "base_uri": "https://localhost:8080/",
          "height": 405
        }
      },
      "source": [
        "plt.figure(figsize=(12,6))\n",
        "sns.countplot(x='label',data=train)"
      ],
      "execution_count": 6,
      "outputs": [
        {
          "output_type": "execute_result",
          "data": {
            "text/plain": [
              "<matplotlib.axes._subplots.AxesSubplot at 0x7fbe8b97e4e0>"
            ]
          },
          "metadata": {
            "tags": []
          },
          "execution_count": 6
        },
        {
          "output_type": "display_data",
          "data": {
            "image/png": "[encoded data removed]",
            "text/plain": [
              "<Figure size 864x432 with 1 Axes>"
            ]
          },
          "metadata": {
            "tags": [],
            "needs_background": "light"
          }
        }
      ]
    },
    {
      "cell_type": "code",
      "metadata": {
        "id": "He-qKzGrKNE5",
        "colab_type": "code",
        "outputId": "c92bf519-7d85-4850-99b3-95fd88092a15",
        "colab": {
          "base_uri": "https://localhost:8080/",
          "height": 542
        }
      },
      "source": [
        "fig = go.Figure(go.Funnelarea(\n",
        "    text =temp.label,\n",
        "    values = temp.tweet,\n",
        "    title = {\"position\": \"top center\", \"text\": \"Funnel-Chart of Sentiment Distribution\"}\n",
        "    ))\n",
        "fig.show()"
      ],
      "execution_count": 7,
      "outputs": [
        {
          "output_type": "display_data",
          "data": {
            "text/html": [
              "<html>\n",
              "<head><meta charset=\"utf-8\" /></head>\n",
              "<body>\n",
              "    <div>\n",
              "            <script src=\"https://cdnjs.cloudflare.com/ajax/libs/mathjax/2.7.5/MathJax.js?config=TeX-AMS-MML_SVG\"></script><script type=\"text/javascript\">if (window.MathJax) {MathJax.Hub.Config({SVG: {font: \"STIX-Web\"}});}</script>\n",
              "                <script type=\"text/javascript\">window.PlotlyConfig = {MathJaxConfig: 'local'};</script>\n",
              "        <script src=\"https://cdn.plot.ly/plotly-latest.min.js\"></script>    \n",
              "            <div id=\"f7dd0149-87c7-4125-8a43-c3951a13886d\" class=\"plotly-graph-div\" style=\"height:525px; width:100%;\"></div>\n",
              "            <script type=\"text/javascript\">\n",
              "                \n",
              "                    window.PLOTLYENV=window.PLOTLYENV || {};\n",
              "                    \n",
              "                if (document.getElementById(\"f7dd0149-87c7-4125-8a43-c3951a13886d\")) {\n",
              "                    Plotly.newPlot(\n",
              "                        'f7dd0149-87c7-4125-8a43-c3951a13886d',\n",
              "                        [{\"text\": [0, 1], \"title\": {\"position\": \"top center\", \"text\": \"Funnel-Chart of Sentiment Distribution\"}, \"type\": \"funnelarea\", \"values\": [9184, 7561]}],\n",
              "                        {\"template\": {\"data\": {\"bar\": [{\"error_x\": {\"color\": \"#2a3f5f\"}, \"error_y\": {\"color\": \"#2a3f5f\"}, \"marker\": {\"line\": {\"color\": \"#E5ECF6\", \"width\": 0.5}}, \"type\": \"bar\"}], \"barpolar\": [{\"marker\": {\"line\": {\"color\": \"#E5ECF6\", \"width\": 0.5}}, \"type\": \"barpolar\"}], \"carpet\": [{\"aaxis\": {\"endlinecolor\": \"#2a3f5f\", \"gridcolor\": \"white\", \"linecolor\": \"white\", \"minorgridcolor\": \"white\", \"startlinecolor\": \"#2a3f5f\"}, \"baxis\": {\"endlinecolor\": \"#2a3f5f\", \"gridcolor\": \"white\", \"linecolor\": \"white\", \"minorgridcolor\": \"white\", \"startlinecolor\": \"#2a3f5f\"}, \"type\": \"carpet\"}], \"choropleth\": [{\"colorbar\": {\"outlinewidth\": 0, \"ticks\": \"\"}, \"type\": \"choropleth\"}], \"contour\": [{\"colorbar\": {\"outlinewidth\": 0, \"ticks\": \"\"}, \"colorscale\": [[0.0, \"#0d0887\"], [0.1111111111111111, \"#46039f\"], [0.2222222222222222, \"#7201a8\"], [0.3333333333333333, \"#9c179e\"], [0.4444444444444444, \"#bd3786\"], [0.5555555555555556, \"#d8576b\"], [0.6666666666666666, \"#ed7953\"], [0.7777777777777778, \"#fb9f3a\"], [0.8888888888888888, \"#fdca26\"], [1.0, \"#f0f921\"]], \"type\": \"contour\"}], \"contourcarpet\": [{\"colorbar\": {\"outlinewidth\": 0, \"ticks\": \"\"}, \"type\": \"contourcarpet\"}], \"heatmap\": [{\"colorbar\": {\"outlinewidth\": 0, \"ticks\": \"\"}, \"colorscale\": [[0.0, \"#0d0887\"], [0.1111111111111111, \"#46039f\"], [0.2222222222222222, \"#7201a8\"], [0.3333333333333333, \"#9c179e\"], [0.4444444444444444, \"#bd3786\"], [0.5555555555555556, \"#d8576b\"], [0.6666666666666666, \"#ed7953\"], [0.7777777777777778, \"#fb9f3a\"], [0.8888888888888888, \"#fdca26\"], [1.0, \"#f0f921\"]], \"type\": \"heatmap\"}], \"heatmapgl\": [{\"colorbar\": {\"outlinewidth\": 0, \"ticks\": \"\"}, \"colorscale\": [[0.0, \"#0d0887\"], [0.1111111111111111, \"#46039f\"], [0.2222222222222222, \"#7201a8\"], [0.3333333333333333, \"#9c179e\"], [0.4444444444444444, \"#bd3786\"], [0.5555555555555556, \"#d8576b\"], [0.6666666666666666, \"#ed7953\"], [0.7777777777777778, \"#fb9f3a\"], [0.8888888888888888, \"#fdca26\"], [1.0, \"#f0f921\"]], \"type\": \"heatmapgl\"}], \"histogram\": [{\"marker\": {\"colorbar\": {\"outlinewidth\": 0, \"ticks\": \"\"}}, \"type\": \"histogram\"}], \"histogram2d\": [{\"colorbar\": {\"outlinewidth\": 0, \"ticks\": \"\"}, \"colorscale\": [[0.0, \"#0d0887\"], [0.1111111111111111, \"#46039f\"], [0.2222222222222222, \"#7201a8\"], [0.3333333333333333, \"#9c179e\"], [0.4444444444444444, \"#bd3786\"], [0.5555555555555556, \"#d8576b\"], [0.6666666666666666, \"#ed7953\"], [0.7777777777777778, \"#fb9f3a\"], [0.8888888888888888, \"#fdca26\"], [1.0, \"#f0f921\"]], \"type\": \"histogram2d\"}], \"histogram2dcontour\": [{\"colorbar\": {\"outlinewidth\": 0, \"ticks\": \"\"}, \"colorscale\": [[0.0, \"#0d0887\"], [0.1111111111111111, \"#46039f\"], [0.2222222222222222, \"#7201a8\"], [0.3333333333333333, \"#9c179e\"], [0.4444444444444444, \"#bd3786\"], [0.5555555555555556, \"#d8576b\"], [0.6666666666666666, \"#ed7953\"], [0.7777777777777778, \"#fb9f3a\"], [0.8888888888888888, \"#fdca26\"], [1.0, \"#f0f921\"]], \"type\": \"histogram2dcontour\"}], \"mesh3d\": [{\"colorbar\": {\"outlinewidth\": 0, \"ticks\": \"\"}, \"type\": \"mesh3d\"}], \"parcoords\": [{\"line\": {\"colorbar\": {\"outlinewidth\": 0, \"ticks\": \"\"}}, \"type\": \"parcoords\"}], \"pie\": [{\"automargin\": true, \"type\": \"pie\"}], \"scatter\": [{\"marker\": {\"colorbar\": {\"outlinewidth\": 0, \"ticks\": \"\"}}, \"type\": \"scatter\"}], \"scatter3d\": [{\"line\": {\"colorbar\": {\"outlinewidth\": 0, \"ticks\": \"\"}}, \"marker\": {\"colorbar\": {\"outlinewidth\": 0, \"ticks\": \"\"}}, \"type\": \"scatter3d\"}], \"scattercarpet\": [{\"marker\": {\"colorbar\": {\"outlinewidth\": 0, \"ticks\": \"\"}}, \"type\": \"scattercarpet\"}], \"scattergeo\": [{\"marker\": {\"colorbar\": {\"outlinewidth\": 0, \"ticks\": \"\"}}, \"type\": \"scattergeo\"}], \"scattergl\": [{\"marker\": {\"colorbar\": {\"outlinewidth\": 0, \"ticks\": \"\"}}, \"type\": \"scattergl\"}], \"scattermapbox\": [{\"marker\": {\"colorbar\": {\"outlinewidth\": 0, \"ticks\": \"\"}}, \"type\": \"scattermapbox\"}], \"scatterpolar\": [{\"marker\": {\"colorbar\": {\"outlinewidth\": 0, \"ticks\": \"\"}}, \"type\": \"scatterpolar\"}], \"scatterpolargl\": [{\"marker\": {\"colorbar\": {\"outlinewidth\": 0, \"ticks\": \"\"}}, \"type\": \"scatterpolargl\"}], \"scatterternary\": [{\"marker\": {\"colorbar\": {\"outlinewidth\": 0, \"ticks\": \"\"}}, \"type\": \"scatterternary\"}], \"surface\": [{\"colorbar\": {\"outlinewidth\": 0, \"ticks\": \"\"}, \"colorscale\": [[0.0, \"#0d0887\"], [0.1111111111111111, \"#46039f\"], [0.2222222222222222, \"#7201a8\"], [0.3333333333333333, \"#9c179e\"], [0.4444444444444444, \"#bd3786\"], [0.5555555555555556, \"#d8576b\"], [0.6666666666666666, \"#ed7953\"], [0.7777777777777778, \"#fb9f3a\"], [0.8888888888888888, \"#fdca26\"], [1.0, \"#f0f921\"]], \"type\": \"surface\"}], \"table\": [{\"cells\": {\"fill\": {\"color\": \"#EBF0F8\"}, \"line\": {\"color\": \"white\"}}, \"header\": {\"fill\": {\"color\": \"#C8D4E3\"}, \"line\": {\"color\": \"white\"}}, \"type\": \"table\"}]}, \"layout\": {\"annotationdefaults\": {\"arrowcolor\": \"#2a3f5f\", \"arrowhead\": 0, \"arrowwidth\": 1}, \"coloraxis\": {\"colorbar\": {\"outlinewidth\": 0, \"ticks\": \"\"}}, \"colorscale\": {\"diverging\": [[0, \"#8e0152\"], [0.1, \"#c51b7d\"], [0.2, \"#de77ae\"], [0.3, \"#f1b6da\"], [0.4, \"#fde0ef\"], [0.5, \"#f7f7f7\"], [0.6, \"#e6f5d0\"], [0.7, \"#b8e186\"], [0.8, \"#7fbc41\"], [0.9, \"#4d9221\"], [1, \"#276419\"]], \"sequential\": [[0.0, \"#0d0887\"], [0.1111111111111111, \"#46039f\"], [0.2222222222222222, \"#7201a8\"], [0.3333333333333333, \"#9c179e\"], [0.4444444444444444, \"#bd3786\"], [0.5555555555555556, \"#d8576b\"], [0.6666666666666666, \"#ed7953\"], [0.7777777777777778, \"#fb9f3a\"], [0.8888888888888888, \"#fdca26\"], [1.0, \"#f0f921\"]], \"sequentialminus\": [[0.0, \"#0d0887\"], [0.1111111111111111, \"#46039f\"], [0.2222222222222222, \"#7201a8\"], [0.3333333333333333, \"#9c179e\"], [0.4444444444444444, \"#bd3786\"], [0.5555555555555556, \"#d8576b\"], [0.6666666666666666, \"#ed7953\"], [0.7777777777777778, \"#fb9f3a\"], [0.8888888888888888, \"#fdca26\"], [1.0, \"#f0f921\"]]}, \"colorway\": [\"#636efa\", \"#EF553B\", \"#00cc96\", \"#ab63fa\", \"#FFA15A\", \"#19d3f3\", \"#FF6692\", \"#B6E880\", \"#FF97FF\", \"#FECB52\"], \"font\": {\"color\": \"#2a3f5f\"}, \"geo\": {\"bgcolor\": \"white\", \"lakecolor\": \"white\", \"landcolor\": \"#E5ECF6\", \"showlakes\": true, \"showland\": true, \"subunitcolor\": \"white\"}, \"hoverlabel\": {\"align\": \"left\"}, \"hovermode\": \"closest\", \"mapbox\": {\"style\": \"light\"}, \"paper_bgcolor\": \"white\", \"plot_bgcolor\": \"#E5ECF6\", \"polar\": {\"angularaxis\": {\"gridcolor\": \"white\", \"linecolor\": \"white\", \"ticks\": \"\"}, \"bgcolor\": \"#E5ECF6\", \"radialaxis\": {\"gridcolor\": \"white\", \"linecolor\": \"white\", \"ticks\": \"\"}}, \"scene\": {\"xaxis\": {\"backgroundcolor\": \"#E5ECF6\", \"gridcolor\": \"white\", \"gridwidth\": 2, \"linecolor\": \"white\", \"showbackground\": true, \"ticks\": \"\", \"zerolinecolor\": \"white\"}, \"yaxis\": {\"backgroundcolor\": \"#E5ECF6\", \"gridcolor\": \"white\", \"gridwidth\": 2, \"linecolor\": \"white\", \"showbackground\": true, \"ticks\": \"\", \"zerolinecolor\": \"white\"}, \"zaxis\": {\"backgroundcolor\": \"#E5ECF6\", \"gridcolor\": \"white\", \"gridwidth\": 2, \"linecolor\": \"white\", \"showbackground\": true, \"ticks\": \"\", \"zerolinecolor\": \"white\"}}, \"shapedefaults\": {\"line\": {\"color\": \"#2a3f5f\"}}, \"ternary\": {\"aaxis\": {\"gridcolor\": \"white\", \"linecolor\": \"white\", \"ticks\": \"\"}, \"baxis\": {\"gridcolor\": \"white\", \"linecolor\": \"white\", \"ticks\": \"\"}, \"bgcolor\": \"#E5ECF6\", \"caxis\": {\"gridcolor\": \"white\", \"linecolor\": \"white\", \"ticks\": \"\"}}, \"title\": {\"x\": 0.05}, \"xaxis\": {\"automargin\": true, \"gridcolor\": \"white\", \"linecolor\": \"white\", \"ticks\": \"\", \"title\": {\"standoff\": 15}, \"zerolinecolor\": \"white\", \"zerolinewidth\": 2}, \"yaxis\": {\"automargin\": true, \"gridcolor\": \"white\", \"linecolor\": \"white\", \"ticks\": \"\", \"title\": {\"standoff\": 15}, \"zerolinecolor\": \"white\", \"zerolinewidth\": 2}}}},\n",
              "                        {\"responsive\": true}\n",
              "                    ).then(function(){\n",
              "                            \n",
              "var gd = document.getElementById('f7dd0149-87c7-4125-8a43-c3951a13886d');\n",
              "var x = new MutationObserver(function (mutations, observer) {{\n",
              "        var display = window.getComputedStyle(gd).display;\n",
              "        if (!display || display === 'none') {{\n",
              "            console.log([gd, 'removed!']);\n",
              "            Plotly.purge(gd);\n",
              "            observer.disconnect();\n",
              "        }}\n",
              "}});\n",
              "\n",
              "// Listen for the removal of the full notebook cells\n",
              "var notebookContainer = gd.closest('#notebook-container');\n",
              "if (notebookContainer) {{\n",
              "    x.observe(notebookContainer, {childList: true});\n",
              "}}\n",
              "\n",
              "// Listen for the clearing of the current output cell\n",
              "var outputEl = gd.closest('.output');\n",
              "if (outputEl) {{\n",
              "    x.observe(outputEl, {childList: true});\n",
              "}}\n",
              "\n",
              "                        })\n",
              "                };\n",
              "                \n",
              "            </script>\n",
              "        </div>\n",
              "</body>\n",
              "</html>"
            ]
          },
          "metadata": {
            "tags": []
          }
        }
      ]
    },
    {
      "cell_type": "code",
      "metadata": {
        "id": "W4APzVF-KM5X",
        "colab_type": "code",
        "colab": {}
      },
      "source": [
        "x_train = train_data['tweet'].astype(str)\n",
        "y_train = train_data['label']\n",
        "\n",
        "x_test = test_data['tweet'].astype(str)\n",
        "y_test = test_data['label']\n"
      ],
      "execution_count": 0,
      "outputs": []
    },
    {
      "cell_type": "markdown",
      "metadata": {
        "id": "pBQSnfO-xqws",
        "colab_type": "text"
      },
      "source": [
        "### ***Setting our HyperParameters***"
      ]
    },
    {
      "cell_type": "code",
      "metadata": {
        "id": "2hKx8-wv4EmK",
        "colab_type": "code",
        "colab": {}
      },
      "source": [
        "vocab_size = 0\n",
        "embedding_dim = 8\n",
        "drop_rate = 0.5\n",
        "max_length = 120\n",
        "trunc_type='post'\n",
        "padding_type='post'\n",
        "oov_tok = \"<OOV>\"\n",
        "training_portion = .8\n",
        "num_epochs = 8\n"
      ],
      "execution_count": 0,
      "outputs": []
    },
    {
      "cell_type": "markdown",
      "metadata": {
        "id": "OsIewVm1x97Q",
        "colab_type": "text"
      },
      "source": [
        "### ***Data Preprocessing***"
      ]
    },
    {
      "cell_type": "code",
      "metadata": {
        "id": "jSD8kkdO2l0l",
        "colab_type": "code",
        "colab": {}
      },
      "source": [
        "vocab_size = 0\n",
        "embedding_dim = 8\n",
        "drop_rate = 0.5\n",
        "max_length = 120\n",
        "trunc_type='post'\n",
        "padding_type='post'\n",
        "oov_tok = \"<OOV>\"\n",
        "training_portion = .8\n",
        "num_epochs = 8\n",
        "\n",
        "tokenizer = Tokenizer(oov_token=\"<OOV>\")\n",
        "tokenizer.fit_on_texts(x_train)\n",
        "word_index = tokenizer.word_index\n",
        "train_sequences = tokenizer.texts_to_sequences(x_train)\n",
        "train_padded = pad_sequences(train_sequences, padding=padding_type,maxlen=max_length,truncating=trunc_type)\n",
        "validation_sequences = tokenizer.texts_to_sequences(x_test)\n",
        "validation_padded = pad_sequences(validation_sequences, padding=padding_type, maxlen=max_length, truncating=trunc_type)\n",
        "y_train = np.array(y_train)\n",
        "y_test = np.array(y_test)\n",
        "x_train = train_padded\n",
        "x_test = validation_padded\n",
        "vocab_size = len(word_index)+1"
      ],
      "execution_count": 0,
      "outputs": []
    },
    {
      "cell_type": "markdown",
      "metadata": {
        "id": "7ksL9OnUy_mY",
        "colab_type": "text"
      },
      "source": [
        "### ***Helper Function to view loss and accuracy plots***"
      ]
    },
    {
      "cell_type": "code",
      "metadata": {
        "id": "hvRbPnym4UML",
        "colab_type": "code",
        "colab": {}
      },
      "source": [
        "def plot_graphs(history, string):\n",
        "  plt.plot(history.history[string])\n",
        "  plt.plot(history.history['val_'+string])\n",
        "  plt.xlabel(\"Epochs\")\n",
        "  plt.ylabel(string)\n",
        "  plt.legend([string, 'val_'+string])\n",
        "  plt.show()  "
      ],
      "execution_count": 0,
      "outputs": []
    },
    {
      "cell_type": "markdown",
      "metadata": {
        "id": "sa6qXETLzQlR",
        "colab_type": "text"
      },
      "source": [
        "### ***Model 1: Artificial Neural Network***"
      ]
    },
    {
      "cell_type": "code",
      "metadata": {
        "id": "CZ1MueSX5Uop",
        "colab_type": "code",
        "colab": {
          "base_uri": "https://localhost:8080/",
          "height": 588
        },
        "outputId": "6775e080-86f0-4a9a-ddb4-7dd5c3005331"
      },
      "source": [
        "model_ann = tf.keras.Sequential([\n",
        "    tf.keras.layers.Embedding(vocab_size, embedding_dim, input_length=max_length),\n",
        "    tf.keras.layers.GlobalAveragePooling1D(),\n",
        "    tf.keras.layers.Dense(64, activation='relu'),\n",
        "    tf.keras.layers.Dropout(rate=0.7),\n",
        "    tf.keras.layers.Dense(64, activation='relu'),\n",
        "    tf.keras.layers.Dropout(rate=0.7),\n",
        "    tf.keras.layers.Dense(16, activation='sigmoid'),\n",
        "    tf.keras.layers.Dense(2, activation='softmax')\n",
        "])\n",
        "model_ann.summary()\n",
        "model_ann.compile(loss='sparse_categorical_crossentropy',optimizer='adam',metrics=['accuracy'])\n",
        "history_ann = model_ann.fit(x_train, y_train, epochs=5, validation_data=(x_test, y_test), verbose=2)"
      ],
      "execution_count": 27,
      "outputs": [
        {
          "output_type": "stream",
          "text": [
            "Model: \"sequential_7\"\n",
            "_________________________________________________________________\n",
            "Layer (type)                 Output Shape              Param #   \n",
            "=================================================================\n",
            "embedding_7 (Embedding)      (None, 120, 8)            456944    \n",
            "_________________________________________________________________\n",
            "global_average_pooling1d_7 ( (None, 8)                 0         \n",
            "_________________________________________________________________\n",
            "dense_28 (Dense)             (None, 64)                576       \n",
            "_________________________________________________________________\n",
            "dropout_14 (Dropout)         (None, 64)                0         \n",
            "_________________________________________________________________\n",
            "dense_29 (Dense)             (None, 64)                4160      \n",
            "_________________________________________________________________\n",
            "dropout_15 (Dropout)         (None, 64)                0         \n",
            "_________________________________________________________________\n",
            "dense_30 (Dense)             (None, 16)                1040      \n",
            "_________________________________________________________________\n",
            "dense_31 (Dense)             (None, 2)                 34        \n",
            "=================================================================\n",
            "Total params: 462,754\n",
            "Trainable params: 462,754\n",
            "Non-trainable params: 0\n",
            "_________________________________________________________________\n",
            "Epoch 1/5\n",
            "1250/1250 - 7s - loss: 0.4611 - accuracy: 0.7632 - val_loss: 0.2421 - val_accuracy: 0.9183\n",
            "Epoch 2/5\n",
            "1250/1250 - 7s - loss: 0.2214 - accuracy: 0.9277 - val_loss: 0.2228 - val_accuracy: 0.9289\n",
            "Epoch 3/5\n",
            "1250/1250 - 7s - loss: 0.1591 - accuracy: 0.9506 - val_loss: 0.2029 - val_accuracy: 0.9271\n",
            "Epoch 4/5\n",
            "1250/1250 - 7s - loss: 0.1297 - accuracy: 0.9611 - val_loss: 0.1972 - val_accuracy: 0.9366\n",
            "Epoch 5/5\n",
            "1250/1250 - 7s - loss: 0.1058 - accuracy: 0.9700 - val_loss: 0.2079 - val_accuracy: 0.9361\n"
          ],
          "name": "stdout"
        }
      ]
    },
    {
      "cell_type": "code",
      "metadata": {
        "id": "4OzSpeIN52nw",
        "colab_type": "code",
        "outputId": "6e608d88-fa06-4ce5-f4c7-d1a4b3e00929",
        "colab": {
          "base_uri": "https://localhost:8080/",
          "height": 541
        }
      },
      "source": [
        "plot_graphs(history_ann, \"accuracy\")\n",
        "plot_graphs(history_ann, \"loss\")"
      ],
      "execution_count": 28,
      "outputs": [
        {
          "output_type": "display_data",
          "data": {
            "image/png": "[encoded data removed]",
            "text/plain": [
              "<Figure size 432x288 with 1 Axes>"
            ]
          },
          "metadata": {
            "tags": [],
            "needs_background": "light"
          }
        },
        {
          "output_type": "display_data",
          "data": {
            "image/png": "[encoded data removed]",
            "text/plain": [
              "<Figure size 432x288 with 1 Axes>"
            ]
          },
          "metadata": {
            "tags": [],
            "needs_background": "light"
          }
        }
      ]
    },
    {
      "cell_type": "markdown",
      "metadata": {
        "id": "IyaAbrWnzt65",
        "colab_type": "text"
      },
      "source": [
        "### ***Model 2: Convolutional Neural Network***"
      ]
    },
    {
      "cell_type": "code",
      "metadata": {
        "id": "JQidVPny9w79",
        "colab_type": "code",
        "outputId": "4f8081a0-fa07-42b1-a077-2b38dcc24913",
        "colab": {
          "base_uri": "https://localhost:8080/",
          "height": 907
        }
      },
      "source": [
        "def create_cnn():\n",
        "  model=Sequential()\n",
        "  model.add(Embedding(vocab_size, embedding_dim, input_length=max_length))\n",
        "  model.add(Conv1D(32,5,activation='relu'))\n",
        "  model.add(Dropout(rate=0.2))\n",
        "  model.add(Conv1D(32,5,activation='relu'))\n",
        "  model.add(Dropout(rate=0.5))\n",
        "  model.add(MaxPooling1D(2))\n",
        "  model.add(Conv1D(32,5,activation='sigmoid'))\n",
        "  model.add(Dropout(rate=0.5))\n",
        "  model.add(MaxPooling1D(2))\n",
        "  model.add(Dense(32,activation='sigmoid'))\n",
        "  model.add(Dropout(rate=0.5))\n",
        "  model.add(Conv1D(32,5,activation='relu'))\n",
        "  model.add(Dropout(rate=0.5))\n",
        "  model.add(MaxPooling1D(2))\n",
        "  model.add(GlobalAveragePooling1D())\n",
        "  model.add(Dense(2,activation='softmax'))\n",
        "  model.compile(loss='sparse_categorical_crossentropy',optimizer='RMSprop',metrics=['accuracy'])\n",
        "  return model\n",
        "model_cnn = create_cnn()\n",
        "model_cnn.summary()\n",
        "history_cnn = model_cnn.fit(x_train, y_train, epochs=6, validation_data=(x_test, y_test), verbose=2)"
      ],
      "execution_count": 43,
      "outputs": [
        {
          "output_type": "stream",
          "text": [
            "Model: \"sequential_21\"\n",
            "_________________________________________________________________\n",
            "Layer (type)                 Output Shape              Param #   \n",
            "=================================================================\n",
            "embedding_21 (Embedding)     (None, 120, 8)            456944    \n",
            "_________________________________________________________________\n",
            "conv1d_69 (Conv1D)           (None, 116, 32)           1312      \n",
            "_________________________________________________________________\n",
            "dropout_98 (Dropout)         (None, 116, 32)           0         \n",
            "_________________________________________________________________\n",
            "conv1d_70 (Conv1D)           (None, 112, 32)           5152      \n",
            "_________________________________________________________________\n",
            "dropout_99 (Dropout)         (None, 112, 32)           0         \n",
            "_________________________________________________________________\n",
            "max_pooling1d_52 (MaxPooling (None, 56, 32)            0         \n",
            "_________________________________________________________________\n",
            "conv1d_71 (Conv1D)           (None, 52, 32)            5152      \n",
            "_________________________________________________________________\n",
            "dropout_100 (Dropout)        (None, 52, 32)            0         \n",
            "_________________________________________________________________\n",
            "max_pooling1d_53 (MaxPooling (None, 26, 32)            0         \n",
            "_________________________________________________________________\n",
            "dense_47 (Dense)             (None, 26, 32)            1056      \n",
            "_________________________________________________________________\n",
            "dropout_101 (Dropout)        (None, 26, 32)            0         \n",
            "_________________________________________________________________\n",
            "conv1d_72 (Conv1D)           (None, 22, 32)            5152      \n",
            "_________________________________________________________________\n",
            "dropout_102 (Dropout)        (None, 22, 32)            0         \n",
            "_________________________________________________________________\n",
            "max_pooling1d_54 (MaxPooling (None, 11, 32)            0         \n",
            "_________________________________________________________________\n",
            "global_average_pooling1d_21  (None, 32)                0         \n",
            "_________________________________________________________________\n",
            "dense_48 (Dense)             (None, 2)                 66        \n",
            "=================================================================\n",
            "Total params: 474,834\n",
            "Trainable params: 474,834\n",
            "Non-trainable params: 0\n",
            "_________________________________________________________________\n",
            "Train on 40000 samples, validate on 16745 samples\n",
            "Epoch 1/6\n",
            " - 32s - loss: 0.5057 - accuracy: 0.7424 - val_loss: 0.3069 - val_accuracy: 0.9083\n",
            "Epoch 2/6\n",
            " - 32s - loss: 0.2847 - accuracy: 0.9036 - val_loss: 0.2721 - val_accuracy: 0.9171\n",
            "Epoch 3/6\n",
            " - 32s - loss: 0.2479 - accuracy: 0.9213 - val_loss: 0.2922 - val_accuracy: 0.9081\n",
            "Epoch 4/6\n",
            " - 32s - loss: 0.2290 - accuracy: 0.9269 - val_loss: 0.2417 - val_accuracy: 0.9276\n",
            "Epoch 5/6\n",
            " - 32s - loss: 0.2106 - accuracy: 0.9336 - val_loss: 0.2141 - val_accuracy: 0.9341\n",
            "Epoch 6/6\n",
            " - 33s - loss: 0.1949 - accuracy: 0.9412 - val_loss: 0.2076 - val_accuracy: 0.9350\n"
          ],
          "name": "stdout"
        }
      ]
    },
    {
      "cell_type": "code",
      "metadata": {
        "id": "bYlyrR3IdZlI",
        "colab_type": "code",
        "outputId": "008e30ec-55d8-4106-9829-6bda02d831d0",
        "colab": {
          "base_uri": "https://localhost:8080/",
          "height": 544
        }
      },
      "source": [
        "plot_graphs(history_cnn, \"accuracy\")\n",
        "plot_graphs(history_cnn, \"loss\")"
      ],
      "execution_count": 44,
      "outputs": [
        {
          "output_type": "display_data",
          "data": {
            "image/png": "[encoded data removed]",
            "text/plain": [
              "<Figure size 432x288 with 1 Axes>"
            ]
          },
          "metadata": {
            "tags": [],
            "needs_background": "light"
          }
        },
        {
          "output_type": "display_data",
          "data": {
            "image/png": "[encoded data removed]",
            "text/plain": [
              "<Figure size 432x288 with 1 Axes>"
            ]
          },
          "metadata": {
            "tags": [],
            "needs_background": "light"
          }
        }
      ]
    },
    {
      "cell_type": "markdown",
      "metadata": {
        "id": "WXWBYv41z8g8",
        "colab_type": "text"
      },
      "source": [
        "### ***Model 3: Bidirectional Gated Recurrent Unit***"
      ]
    },
    {
      "cell_type": "code",
      "metadata": {
        "id": "0RvTDmWGwv6w",
        "colab_type": "code",
        "outputId": "be400163-c8c0-4027-ca71-394bbf379b96",
        "colab": {
          "base_uri": "https://localhost:8080/",
          "height": 773
        }
      },
      "source": [
        "def get_simple_rnn_model():\n",
        "    model = Sequential()\n",
        "    model.add(Embedding(input_dim=vocab_size, output_dim=embedding_dim, input_length=max_length,trainable=True))\n",
        "    model.add(Bidirectional(GRU(32, return_sequences=True)))\n",
        "    model.add(GlobalAveragePooling1D())\n",
        "    model.add(Dropout(rate=0.5)) \n",
        "    model.add(Dense(128, activation='relu'))\n",
        "    model.add(Dropout(rate=0.5)) \n",
        "    model.add(Dense(128, activation='relu'))\n",
        "    model.add(Dropout(rate=0.5)) \n",
        "    model.add(Dense(128, activation='relu'))\n",
        "    model.add(Dropout(rate=0.5)) \n",
        "    model.add(Dense(2, activation=\"softmax\"))\n",
        "    model.compile(loss='sparse_categorical_crossentropy',optimizer='RMSprop',metrics=['accuracy'])\n",
        "    return model\n",
        "\n",
        "rnn = get_simple_rnn_model()\n",
        "rnn.summary()\n",
        "rnn_history = rnn.fit(x_train, y_train, epochs=7, validation_data=(x_test, y_test), verbose=2)"
      ],
      "execution_count": 12,
      "outputs": [
        {
          "output_type": "stream",
          "text": [
            "Model: \"sequential_1\"\n",
            "_________________________________________________________________\n",
            "Layer (type)                 Output Shape              Param #   \n",
            "=================================================================\n",
            "embedding_1 (Embedding)      (None, 120, 8)            455928    \n",
            "_________________________________________________________________\n",
            "bidirectional_1 (Bidirection (None, 120, 64)           7872      \n",
            "_________________________________________________________________\n",
            "global_average_pooling1d_1 ( (None, 64)                0         \n",
            "_________________________________________________________________\n",
            "dropout_1 (Dropout)          (None, 64)                0         \n",
            "_________________________________________________________________\n",
            "dense_1 (Dense)              (None, 128)               8320      \n",
            "_________________________________________________________________\n",
            "dropout_2 (Dropout)          (None, 128)               0         \n",
            "_________________________________________________________________\n",
            "dense_2 (Dense)              (None, 128)               16512     \n",
            "_________________________________________________________________\n",
            "dropout_3 (Dropout)          (None, 128)               0         \n",
            "_________________________________________________________________\n",
            "dense_3 (Dense)              (None, 128)               16512     \n",
            "_________________________________________________________________\n",
            "dropout_4 (Dropout)          (None, 128)               0         \n",
            "_________________________________________________________________\n",
            "dense_4 (Dense)              (None, 2)                 258       \n",
            "=================================================================\n",
            "Total params: 505,402\n",
            "Trainable params: 505,402\n",
            "Non-trainable params: 0\n",
            "_________________________________________________________________\n",
            "Train on 40000 samples, validate on 16745 samples\n",
            "Epoch 1/7\n",
            " - 156s - loss: 0.4030 - accuracy: 0.8102 - val_loss: 0.3259 - val_accuracy: 0.8901\n",
            "Epoch 2/7\n",
            " - 155s - loss: 0.2563 - accuracy: 0.9140 - val_loss: 0.2190 - val_accuracy: 0.9261\n",
            "Epoch 3/7\n",
            " - 155s - loss: 0.2388 - accuracy: 0.9233 - val_loss: 0.2224 - val_accuracy: 0.9313\n",
            "Epoch 4/7\n",
            " - 155s - loss: 0.2279 - accuracy: 0.9274 - val_loss: 0.2243 - val_accuracy: 0.9328\n",
            "Epoch 5/7\n",
            " - 155s - loss: 0.2219 - accuracy: 0.9333 - val_loss: 0.2145 - val_accuracy: 0.9326\n",
            "Epoch 6/7\n",
            " - 155s - loss: 0.2166 - accuracy: 0.9348 - val_loss: 0.2116 - val_accuracy: 0.9322\n",
            "Epoch 7/7\n",
            " - 155s - loss: 0.2112 - accuracy: 0.9368 - val_loss: 0.2283 - val_accuracy: 0.9340\n"
          ],
          "name": "stdout"
        }
      ]
    },
    {
      "cell_type": "code",
      "metadata": {
        "id": "sUHihvBzQwg2",
        "colab_type": "code",
        "outputId": "ede0b2c0-5181-4d30-d0c7-940a3db92f28",
        "colab": {
          "base_uri": "https://localhost:8080/",
          "height": 541
        }
      },
      "source": [
        "plot_graphs(rnn_history, \"accuracy\")\n",
        "plot_graphs(rnn_history, \"loss\")"
      ],
      "execution_count": 13,
      "outputs": [
        {
          "output_type": "display_data",
          "data": {
            "image/png": "[encoded data removed]",
            "text/plain": [
              "<Figure size 432x288 with 1 Axes>"
            ]
          },
          "metadata": {
            "tags": [],
            "needs_background": "light"
          }
        },
        {
          "output_type": "display_data",
          "data": {
            "image/png": "[encoded data removed]",
            "text/plain": [
              "<Figure size 432x288 with 1 Axes>"
            ]
          },
          "metadata": {
            "tags": [],
            "needs_background": "light"
          }
        }
      ]
    }
  ]
}